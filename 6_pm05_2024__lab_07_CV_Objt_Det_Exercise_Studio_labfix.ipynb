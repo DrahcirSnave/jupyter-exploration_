{
  "cells": [
    {
      "cell_type": "markdown",
      "metadata": {
        "id": "view-in-github",
        "colab_type": "text"
      },
      "source": [
        "<a href=\"https://colab.research.google.com/github/DrahcirSnave/jupyter-exploration_/blob/main/6_pm05_2024__lab_07_CV_Objt_Det_Exercise_Studio_labfix.ipynb\" target=\"_parent\"><img src=\"https://colab.research.google.com/assets/colab-badge.svg\" alt=\"Open In Colab\"/></a>"
      ]
    },
    {
      "cell_type": "markdown",
      "id": "405221e5",
      "metadata": {
        "id": "405221e5"
      },
      "source": [
        "# \"Code-Driven Object Classification Showdown\"\n",
        "\n",
        "Objective:\n",
        "To use some basic coding skills and understanding of object classification and detection model in a real-world scenario.\n",
        "\n",
        "\n"
      ]
    },
    {
      "cell_type": "markdown",
      "id": "a113bdf3",
      "metadata": {
        "id": "a113bdf3"
      },
      "source": [
        "# Install libraries\n",
        "\n",
        "Before you can use a library in your code, you need to install it on your system.\n",
        "Installation is the process of downloading and configuring the library files on your computer.\n",
        "This is typically done once per environment (though it may need to be repeated if you need to update to a newer version of the library).\n"
      ]
    },
    {
      "cell_type": "markdown",
      "id": "0a87067c",
      "metadata": {
        "id": "0a87067c"
      },
      "source": [
        "# You may not need to install a library in the following scenarios:\n",
        "\n",
        "1.Standard Library Modules:\n",
        "Python comes with a set of standard libraries that are included with the installation of Python. For these libraries, you don't need to perform any additional installation. Examples include math, datetime, and json.\n",
        "\n",
        "\n",
        "2.Pre-installed Libraries:\n",
        "If you are working in an environment where the library has already been installed, either by yourself or someone else, you don't need to install it again. This is common in shared environments, company setups, or pre-configured environments like Anaconda.\n",
        "\n",
        "3.Built-in Modules:\n",
        "Some frameworks or larger libraries come with other libraries bundled in. In these cases, you don't need to install the bundled libraries separately.\n",
        "\n",
        "4.Using Online IDEs:\n",
        "When you are using online Integrated Development Environments (IDEs) like Google Colab or Jupyter Notebooks hosted on a cloud service, many common libraries are pre-installed, and you don't need to install them unless you need a library that is not included.\n",
        "\n",
        "5.Custom Environments:\n",
        "In custom environments like Docker containers or virtual environments that have been set up with a specific set of libraries, you may not need to install anything if the libraries you need are already included.\n",
        "\n",
        "6.Cloud Services with Pre-configured Environments:\n",
        "Some cloud services offer pre-configured environments with a wide array of libraries pre-installed. In such cases, you might not need to install anything.\n",
        "\n",
        "7.Notebooks with Binder:\n",
        "If you are using a Jupyter Notebook with Binder, the libraries might be specified in a configuration file and installed automatically when the Binder environment is created"
      ]
    },
    {
      "cell_type": "code",
      "execution_count": null,
      "id": "2164c453-b113-40b4-b882-a39e8d6b5d06",
      "metadata": {
        "colab": {
          "base_uri": "https://localhost:8080/"
        },
        "id": "2164c453-b113-40b4-b882-a39e8d6b5d06",
        "outputId": "55acc975-7cc9-4553-c317-9f5a91e7b2c2"
      },
      "outputs": [
        {
          "name": "stdout",
          "output_type": "stream",
          "text": [
            "Requirement already satisfied: tensorflow in /usr/local/lib/python3.10/dist-packages (2.15.0)\n",
            "Requirement already satisfied: absl-py>=1.0.0 in /usr/local/lib/python3.10/dist-packages (from tensorflow) (1.4.0)\n",
            "Requirement already satisfied: astunparse>=1.6.0 in /usr/local/lib/python3.10/dist-packages (from tensorflow) (1.6.3)\n",
            "Requirement already satisfied: flatbuffers>=23.5.26 in /usr/local/lib/python3.10/dist-packages (from tensorflow) (24.3.25)\n",
            "Requirement already satisfied: gast!=0.5.0,!=0.5.1,!=0.5.2,>=0.2.1 in /usr/local/lib/python3.10/dist-packages (from tensorflow) (0.5.4)\n",
            "Requirement already satisfied: google-pasta>=0.1.1 in /usr/local/lib/python3.10/dist-packages (from tensorflow) (0.2.0)\n",
            "Requirement already satisfied: h5py>=2.9.0 in /usr/local/lib/python3.10/dist-packages (from tensorflow) (3.9.0)\n",
            "Requirement already satisfied: libclang>=13.0.0 in /usr/local/lib/python3.10/dist-packages (from tensorflow) (18.1.1)\n",
            "Requirement already satisfied: ml-dtypes~=0.2.0 in /usr/local/lib/python3.10/dist-packages (from tensorflow) (0.2.0)\n",
            "Requirement already satisfied: numpy<2.0.0,>=1.23.5 in /usr/local/lib/python3.10/dist-packages (from tensorflow) (1.25.2)\n",
            "Requirement already satisfied: opt-einsum>=2.3.2 in /usr/local/lib/python3.10/dist-packages (from tensorflow) (3.3.0)\n",
            "Requirement already satisfied: packaging in /usr/local/lib/python3.10/dist-packages (from tensorflow) (24.0)\n",
            "Requirement already satisfied: protobuf!=4.21.0,!=4.21.1,!=4.21.2,!=4.21.3,!=4.21.4,!=4.21.5,<5.0.0dev,>=3.20.3 in /usr/local/lib/python3.10/dist-packages (from tensorflow) (3.20.3)\n",
            "Requirement already satisfied: setuptools in /usr/local/lib/python3.10/dist-packages (from tensorflow) (67.7.2)\n",
            "Requirement already satisfied: six>=1.12.0 in /usr/local/lib/python3.10/dist-packages (from tensorflow) (1.16.0)\n",
            "Requirement already satisfied: termcolor>=1.1.0 in /usr/local/lib/python3.10/dist-packages (from tensorflow) (2.4.0)\n",
            "Requirement already satisfied: typing-extensions>=3.6.6 in /usr/local/lib/python3.10/dist-packages (from tensorflow) (4.11.0)\n",
            "Requirement already satisfied: wrapt<1.15,>=1.11.0 in /usr/local/lib/python3.10/dist-packages (from tensorflow) (1.14.1)\n",
            "Requirement already satisfied: tensorflow-io-gcs-filesystem>=0.23.1 in /usr/local/lib/python3.10/dist-packages (from tensorflow) (0.36.0)\n",
            "Requirement already satisfied: grpcio<2.0,>=1.24.3 in /usr/local/lib/python3.10/dist-packages (from tensorflow) (1.62.1)\n",
            "Requirement already satisfied: tensorboard<2.16,>=2.15 in /usr/local/lib/python3.10/dist-packages (from tensorflow) (2.15.2)\n",
            "Requirement already satisfied: tensorflow-estimator<2.16,>=2.15.0 in /usr/local/lib/python3.10/dist-packages (from tensorflow) (2.15.0)\n",
            "Requirement already satisfied: keras<2.16,>=2.15.0 in /usr/local/lib/python3.10/dist-packages (from tensorflow) (2.15.0)\n",
            "Requirement already satisfied: wheel<1.0,>=0.23.0 in /usr/local/lib/python3.10/dist-packages (from astunparse>=1.6.0->tensorflow) (0.43.0)\n",
            "Requirement already satisfied: google-auth<3,>=1.6.3 in /usr/local/lib/python3.10/dist-packages (from tensorboard<2.16,>=2.15->tensorflow) (2.27.0)\n",
            "Requirement already satisfied: google-auth-oauthlib<2,>=0.5 in /usr/local/lib/python3.10/dist-packages (from tensorboard<2.16,>=2.15->tensorflow) (1.2.0)\n",
            "Requirement already satisfied: markdown>=2.6.8 in /usr/local/lib/python3.10/dist-packages (from tensorboard<2.16,>=2.15->tensorflow) (3.6)\n",
            "Requirement already satisfied: requests<3,>=2.21.0 in /usr/local/lib/python3.10/dist-packages (from tensorboard<2.16,>=2.15->tensorflow) (2.31.0)\n",
            "Requirement already satisfied: tensorboard-data-server<0.8.0,>=0.7.0 in /usr/local/lib/python3.10/dist-packages (from tensorboard<2.16,>=2.15->tensorflow) (0.7.2)\n",
            "Requirement already satisfied: werkzeug>=1.0.1 in /usr/local/lib/python3.10/dist-packages (from tensorboard<2.16,>=2.15->tensorflow) (3.0.2)\n",
            "Requirement already satisfied: cachetools<6.0,>=2.0.0 in /usr/local/lib/python3.10/dist-packages (from google-auth<3,>=1.6.3->tensorboard<2.16,>=2.15->tensorflow) (5.3.3)\n",
            "Requirement already satisfied: pyasn1-modules>=0.2.1 in /usr/local/lib/python3.10/dist-packages (from google-auth<3,>=1.6.3->tensorboard<2.16,>=2.15->tensorflow) (0.4.0)\n",
            "Requirement already satisfied: rsa<5,>=3.1.4 in /usr/local/lib/python3.10/dist-packages (from google-auth<3,>=1.6.3->tensorboard<2.16,>=2.15->tensorflow) (4.9)\n",
            "Requirement already satisfied: requests-oauthlib>=0.7.0 in /usr/local/lib/python3.10/dist-packages (from google-auth-oauthlib<2,>=0.5->tensorboard<2.16,>=2.15->tensorflow) (1.3.1)\n",
            "Requirement already satisfied: charset-normalizer<4,>=2 in /usr/local/lib/python3.10/dist-packages (from requests<3,>=2.21.0->tensorboard<2.16,>=2.15->tensorflow) (3.3.2)\n",
            "Requirement already satisfied: idna<4,>=2.5 in /usr/local/lib/python3.10/dist-packages (from requests<3,>=2.21.0->tensorboard<2.16,>=2.15->tensorflow) (3.6)\n",
            "Requirement already satisfied: urllib3<3,>=1.21.1 in /usr/local/lib/python3.10/dist-packages (from requests<3,>=2.21.0->tensorboard<2.16,>=2.15->tensorflow) (2.0.7)\n",
            "Requirement already satisfied: certifi>=2017.4.17 in /usr/local/lib/python3.10/dist-packages (from requests<3,>=2.21.0->tensorboard<2.16,>=2.15->tensorflow) (2024.2.2)\n",
            "Requirement already satisfied: MarkupSafe>=2.1.1 in /usr/local/lib/python3.10/dist-packages (from werkzeug>=1.0.1->tensorboard<2.16,>=2.15->tensorflow) (2.1.5)\n",
            "Requirement already satisfied: pyasn1<0.7.0,>=0.4.6 in /usr/local/lib/python3.10/dist-packages (from pyasn1-modules>=0.2.1->google-auth<3,>=1.6.3->tensorboard<2.16,>=2.15->tensorflow) (0.6.0)\n",
            "Requirement already satisfied: oauthlib>=3.0.0 in /usr/local/lib/python3.10/dist-packages (from requests-oauthlib>=0.7.0->google-auth-oauthlib<2,>=0.5->tensorboard<2.16,>=2.15->tensorflow) (3.2.2)\n"
          ]
        }
      ],
      "source": [
        "!pip install tensorflow"
      ]
    },
    {
      "cell_type": "code",
      "execution_count": 4,
      "id": "66d26c79",
      "metadata": {
        "id": "66d26c79"
      },
      "outputs": [],
      "source": [
        "# Import\n",
        "import tensorflow as tf\n",
        "import numpy as np\n",
        "import matplotlib.pyplot as plt\n",
        "from sklearn import datasets\n",
        "from sklearn.model_selection import train_test_split, cross_val_score, GridSearchCV\n",
        "from sklearn.neighbors import KNeighborsClassifier\n",
        "from sklearn.metrics import accuracy_score\n",
        "\n",
        "\n",
        "# Here, we import all necessary libraries and modules.\n",
        "# TensorFlow is used for loading the CIFAR-10 dataset, NumPy for numerical operations,\n",
        "# Matplotlib for plotting, and scikit-learn for data splitting, model training, evaluation, and fine-tuning."
      ]
    },
    {
      "cell_type": "code",
      "execution_count": 5,
      "id": "74c81e07",
      "metadata": {
        "id": "74c81e07"
      },
      "outputs": [],
      "source": [
        "#load dataset\n",
        "# Load CIFAR-10 dataset\n",
        "# use TensorFlow's Keras API to load the CIFAR-10 dataset.\n",
        "# Split  this dataset into training and testing sets, each with its respective images and labels.\n",
        " #-- your code here--\n",
        "\n",
        "(X_train, y_train), (X_test, y_test) = tf.keras.datasets.cifar10.load_data()\n"
      ]
    },
    {
      "cell_type": "code",
      "execution_count": 4,
      "id": "fbee16d6-959b-41b6-84e7-0d359a785f66",
      "metadata": {
        "id": "fbee16d6-959b-41b6-84e7-0d359a785f66"
      },
      "outputs": [],
      "source": [
        "# Reshape the data to 2D for the estimator\n",
        "X_train = X_train.reshape(X_train.shape[0], -1)\n",
        "X_test = X_test.reshape(X_test.shape[0], -1)\n"
      ]
    },
    {
      "cell_type": "code",
      "execution_count": 6,
      "id": "5e66aea5",
      "metadata": {
        "id": "5e66aea5"
      },
      "outputs": [],
      "source": [
        "# Flatten the labels\n",
        "y_train = y_train.flatten()\n",
        "y_test = y_test.flatten()\n",
        "\n",
        "# Why do we flatten the  labels"
      ]
    },
    {
      "cell_type": "code",
      "execution_count": 7,
      "id": "16be3bc6",
      "metadata": {
        "colab": {
          "base_uri": "https://localhost:8080/",
          "height": 202
        },
        "id": "16be3bc6",
        "outputId": "59f3f673-ef9e-43e2-e702-bae16ba6f497"
      },
      "outputs": [
        {
          "output_type": "display_data",
          "data": {
            "text/plain": [
              "<Figure size 1000x500 with 5 Axes>"
            ],
            "image/png": "[encoded data removed]"
          },
          "metadata": {}
        }
      ],
      "source": [
        "# Function to display images from the dataset\n",
        "\n",
        "# Define the labels for the CIFAR-10 dataset\n",
        "cifar10_labels = ['airplane', 'automobile', 'bird', 'cat', 'deer', 'dog', 'frog', 'horse', 'ship', 'truck']\n",
        "\n",
        "# Function to display images from the dataset\n",
        "def display_images(images, labels):\n",
        "    fig, axes = plt.subplots(1, 5, figsize=(10, 5),\n",
        "                             subplot_kw={'xticks':[], 'yticks':[]},\n",
        "                             gridspec_kw=dict(hspace=0.1, wspace=0.1))\n",
        "    for i, ax in enumerate(axes.flat):\n",
        "        #Reshape the image back to (32, 32, 3) and display it\n",
        "        ax.imshow(images[i].reshape(32, 32, 3).astype(np.uint8))\n",
        "        ax.set_title(cifar10_labels[labels[i]])\n",
        "    plt.show()\n",
        "\n",
        "\n",
        "# Display the first 5 images from x_train\n",
        "display_images(X_train[:5], y_train[:5])\n",
        "\n",
        "#This function is used to display images along with their labels. It's helpful for visual verification of the data.\n",
        "#This function takes in a set of images and labels, and displays the images in a single row using Matplotlib.\n",
        "#Each image is reshaped back to its original dimensions (32x32x3) and\n",
        "#the pixel values are cast to unsigned 8-bit integers (which is the expected format for displaying images using Matplotlib).\n",
        "#This code sets up a good foundation for the subsequent steps in the assignment,\n",
        "#such as filtering out specific categories of images, training a k-NN classifier, and evaluating its performance."
      ]
    },
    {
      "cell_type": "markdown",
      "id": "875ce8b9",
      "metadata": {
        "id": "875ce8b9"
      },
      "source": [
        "**The CIFAR-10 dataset is composed of 60,000 32x32 color images, categorized into 10 different classes.**\n",
        "Each class has 6,000 images. The categories are as follows:\n",
        "\n",
        "Airplane,\n",
        "Automobile,\n",
        "Bird,\n",
        "Cat,  \n",
        "Deer,\n",
        "Dog,\n",
        "Frog,\n",
        "Horse,\n",
        "Ship,\n",
        "Truck."
      ]
    },
    {
      "cell_type": "code",
      "execution_count": 8,
      "id": "078baae5",
      "metadata": {
        "id": "078baae5",
        "scrolled": true
      },
      "outputs": [],
      "source": [
        "# 1. Filter out images from your assigned category (e.g., 'dog')\n",
        "#    Hint: Use np.where to find indices of 'dog' labels in y_train\n",
        "\n",
        "# --- Your code here ---\n",
        "frogs_indices = np.where(y_train == 6)[0]  # '0' corresponds to 'airplane' in CIFAR-10\n",
        "frogs_images = X_train[frogs_indices]\n",
        "frogs_labels = y_train[frogs_indices]\n",
        "\n",
        "# --- Your code here ---\n",
        "# Here, we filter out the images of airplanes from the training data for visualization purposes."
      ]
    },
    {
      "cell_type": "code",
      "execution_count": 9,
      "id": "0e317e2c",
      "metadata": {
        "colab": {
          "base_uri": "https://localhost:8080/",
          "height": 202
        },
        "id": "0e317e2c",
        "outputId": "0e9bed98-a633-4f04-b032-3ba7cb38df89"
      },
      "outputs": [
        {
          "output_type": "display_data",
          "data": {
            "text/plain": [
              "<Figure size 1000x500 with 5 Axes>"
            ],
            "image/png": "[encoded data removed]"
          },
          "metadata": {}
        }
      ],
      "source": [
        "#2. Display some images from your assigned category using the display_images function\n",
        "\n",
        "#-- Your Code Here --\n",
        "\n",
        "# Task 2: Display some images from the 'airplane' category\n",
        "display_images(frogs_images, frogs_labels)\n",
        "\n",
        "# --- Your code here ---\n",
        "\n",
        "#We call the display function to visualize some  images of the category you picked."
      ]
    },
    {
      "cell_type": "code",
      "source": [
        "# 3. Train a k-NN classifier and evaluate it\n",
        "#    Hint: You can use KNeighborsClassifier from scikit-learn\n",
        "import numpy as np\n",
        "from sklearn.neighbors import KNeighborsClassifier\n",
        "from sklearn.model_selection import cross_val_score\n",
        "# Reshape the data\n",
        "X_train = X_train.reshape(X_train.shape[0], -1)\n",
        "X_test = X_test.reshape(X_test.shape[0], -1)\n",
        "# Create the estimator\n",
        "estimator = KNeighborsClassifier()\n",
        "# Fit the estimator\n",
        "estimator.fit(X_train, y_train)\n",
        "# Evaluate the estimator\n",
        "score = estimator.score(X_test, y_test)\n",
        "k_values = list(range(1,3))\n",
        "cv_scores = []\n",
        "for k in k_values:\n",
        "    knn = KNeighborsClassifier(n_neighbors=k)\n",
        "    scores = cross_val_score(knn, X_train, y_train, cv=5, scoring='accuracy')\n",
        "    cv_scores.append(np.mean(scores))\n",
        "# -- Your Code Here--\n",
        "#We train k-NN classifiers for different values of k (number of neighbors)\n",
        "#and evaluate them using 5-fold cross-validation to estimate the misclassification error."
      ],
      "metadata": {
        "id": "Pd9tjdXYTrii"
      },
      "id": "Pd9tjdXYTrii",
      "execution_count": 10,
      "outputs": []
    },
    {
      "cell_type": "code",
      "source": [
        "# Calculate bias and variance\n",
        "bias = [1 - x for x in cv_scores]\n",
        "variance = [np.var(x) for x in cv_scores]\n",
        "# Plot bias-variance\n",
        "plt.figure(figsize=(10, 6))\n",
        "plt.plot(k_values, bias, label='Bias')\n",
        "plt.plot(k_values, variance, label='Variance')\n",
        "plt.xlabel('Number of Neighbors (k)')\n",
        "plt.ylabel('Error')\n",
        "plt.title('Bias-Variance Plot')"
      ],
      "metadata": {
        "colab": {
          "base_uri": "https://localhost:8080/",
          "height": 582
        },
        "id": "KeO73_T4Wrxi",
        "outputId": "f3d94851-13e3-40ea-8a51-880a73c05504"
      },
      "id": "KeO73_T4Wrxi",
      "execution_count": 11,
      "outputs": [
        {
          "output_type": "execute_result",
          "data": {
            "text/plain": [
              "Text(0.5, 1.0, 'Bias-Variance Plot')"
            ]
          },
          "metadata": {},
          "execution_count": 11
        },
        {
          "output_type": "display_data",
          "data": {
            "text/plain": [
              "<Figure size 1000x600 with 1 Axes>"
            ],
            "image/png": "[encoded data removed]"
          },
          "metadata": {}
        }
      ]
    },
    {
      "cell_type": "markdown",
      "id": "97d9a08d",
      "metadata": {
        "id": "97d9a08d"
      },
      "source": [
        " # How Bias and Variance Come into Play'\n",
        "\n",
        "**High Bias**: If your trained model consistently makes predictions that are off the mark for different datasets (like consistently throwing darts to the left of the bullseye), it has a high bias. It's probably oversimplifying the problem.\n",
        "**ML Solution:** Use a more complex model or incorporate more features.\n",
        "\n",
        "**High Variance:** If your model makes predictions that vary a lot for slight changes in the training data (like your darts scattering all over the board based on tiny differences in your stance or grip), it has high variance. It's probably overfitting to the training data.\n",
        "**ML Solution:** Collect more data, use regularization, or choose a simpler model.\n",
        "\n",
        "**The Role of Bias and Variance in ML:**\n",
        "Model Evaluation: Understanding bias and variance helps in evaluating a model's performance. If a model has high error on the training set, it's likely due to high bias. If it performs well on the training set but poorly on the validation set, it's likely due to high variance.\n",
        "\n",
        "**Model Improvement:** By diagnosing whether a model suffers from high bias, high variance, or both, you can take steps to improve it.\n",
        "\n",
        "**The Trade-off:** In ML, there's often a trade-off. Reducing bias might increase variance and vice versa. The goal is to find the sweet spot where the model has a balanced bias-variance, leading to the most accurate predictions on unseen data.\n",
        "\n",
        "Bias and variance are fundamental concepts in ML, influencing model performance, evaluation, and improvement strategies.\n",
        "\n",
        "\n",
        "\n",
        "\n",
        "\n"
      ]
    },
    {
      "cell_type": "code",
      "execution_count": 12,
      "id": "c9414f98",
      "metadata": {
        "id": "c9414f98",
        "outputId": "5acde31d-0c22-4b37-a02b-2f35e2489c19",
        "colab": {
          "base_uri": "https://localhost:8080/",
          "height": 117
        }
      },
      "outputs": [
        {
          "output_type": "execute_result",
          "data": {
            "text/plain": [
              "GridSearchCV(cv=5, estimator=KNeighborsClassifier(),\n",
              "             param_grid={'n_neighbors': [1, 2]}, scoring='accuracy')"
            ],
            "text/html": [
              "<style>#sk-container-id-1 {color: black;background-color: white;}#sk-container-id-1 pre{padding: 0;}#sk-container-id-1 div.sk-toggleable {background-color: white;}#sk-container-id-1 label.sk-toggleable__label {cursor: pointer;display: block;width: 100%;margin-bottom: 0;padding: 0.3em;box-sizing: border-box;text-align: center;}#sk-container-id-1 label.sk-toggleable__label-arrow:before {content: \"▸\";float: left;margin-right: 0.25em;color: #696969;}#sk-container-id-1 label.sk-toggleable__label-arrow:hover:before {color: black;}#sk-container-id-1 div.sk-estimator:hover label.sk-toggleable__label-arrow:before {color: black;}#sk-container-id-1 div.sk-toggleable__content {max-height: 0;max-width: 0;overflow: hidden;text-align: left;background-color: #f0f8ff;}#sk-container-id-1 div.sk-toggleable__content pre {margin: 0.2em;color: black;border-radius: 0.25em;background-color: #f0f8ff;}#sk-container-id-1 input.sk-toggleable__control:checked~div.sk-toggleable__content {max-height: 200px;max-width: 100%;overflow: auto;}#sk-container-id-1 input.sk-toggleable__control:checked~label.sk-toggleable__label-arrow:before {content: \"▾\";}#sk-container-id-1 div.sk-estimator input.sk-toggleable__control:checked~label.sk-toggleable__label {background-color: #d4ebff;}#sk-container-id-1 div.sk-label input.sk-toggleable__control:checked~label.sk-toggleable__label {background-color: #d4ebff;}#sk-container-id-1 input.sk-hidden--visually {border: 0;clip: rect(1px 1px 1px 1px);clip: rect(1px, 1px, 1px, 1px);height: 1px;margin: -1px;overflow: hidden;padding: 0;position: absolute;width: 1px;}#sk-container-id-1 div.sk-estimator {font-family: monospace;background-color: #f0f8ff;border: 1px dotted black;border-radius: 0.25em;box-sizing: border-box;margin-bottom: 0.5em;}#sk-container-id-1 div.sk-estimator:hover {background-color: #d4ebff;}#sk-container-id-1 div.sk-parallel-item::after {content: \"\";width: 100%;border-bottom: 1px solid gray;flex-grow: 1;}#sk-container-id-1 div.sk-label:hover label.sk-toggleable__label {background-color: #d4ebff;}#sk-container-id-1 div.sk-serial::before {content: \"\";position: absolute;border-left: 1px solid gray;box-sizing: border-box;top: 0;bottom: 0;left: 50%;z-index: 0;}#sk-container-id-1 div.sk-serial {display: flex;flex-direction: column;align-items: center;background-color: white;padding-right: 0.2em;padding-left: 0.2em;position: relative;}#sk-container-id-1 div.sk-item {position: relative;z-index: 1;}#sk-container-id-1 div.sk-parallel {display: flex;align-items: stretch;justify-content: center;background-color: white;position: relative;}#sk-container-id-1 div.sk-item::before, #sk-container-id-1 div.sk-parallel-item::before {content: \"\";position: absolute;border-left: 1px solid gray;box-sizing: border-box;top: 0;bottom: 0;left: 50%;z-index: -1;}#sk-container-id-1 div.sk-parallel-item {display: flex;flex-direction: column;z-index: 1;position: relative;background-color: white;}#sk-container-id-1 div.sk-parallel-item:first-child::after {align-self: flex-end;width: 50%;}#sk-container-id-1 div.sk-parallel-item:last-child::after {align-self: flex-start;width: 50%;}#sk-container-id-1 div.sk-parallel-item:only-child::after {width: 0;}#sk-container-id-1 div.sk-dashed-wrapped {border: 1px dashed gray;margin: 0 0.4em 0.5em 0.4em;box-sizing: border-box;padding-bottom: 0.4em;background-color: white;}#sk-container-id-1 div.sk-label label {font-family: monospace;font-weight: bold;display: inline-block;line-height: 1.2em;}#sk-container-id-1 div.sk-label-container {text-align: center;}#sk-container-id-1 div.sk-container {/* jupyter's `normalize.less` sets `[hidden] { display: none; }` but bootstrap.min.css set `[hidden] { display: none !important; }` so we also need the `!important` here to be able to override the default hidden behavior on the sphinx rendered scikit-learn.org. See: https://github.com/scikit-learn/scikit-learn/issues/21755 */display: inline-block !important;position: relative;}#sk-container-id-1 div.sk-text-repr-fallback {display: none;}</style><div id=\"sk-container-id-1\" class=\"sk-top-container\"><div class=\"sk-text-repr-fallback\"><pre>GridSearchCV(cv=5, estimator=KNeighborsClassifier(),\n",
              "             param_grid={&#x27;n_neighbors&#x27;: [1, 2]}, scoring=&#x27;accuracy&#x27;)</pre><b>In a Jupyter environment, please rerun this cell to show the HTML representation or trust the notebook. <br />On GitHub, the HTML representation is unable to render, please try loading this page with nbviewer.org.</b></div><div class=\"sk-container\" hidden><div class=\"sk-item sk-dashed-wrapped\"><div class=\"sk-label-container\"><div class=\"sk-label sk-toggleable\"><input class=\"sk-toggleable__control sk-hidden--visually\" id=\"sk-estimator-id-1\" type=\"checkbox\" ><label for=\"sk-estimator-id-1\" class=\"sk-toggleable__label sk-toggleable__label-arrow\">GridSearchCV</label><div class=\"sk-toggleable__content\"><pre>GridSearchCV(cv=5, estimator=KNeighborsClassifier(),\n",
              "             param_grid={&#x27;n_neighbors&#x27;: [1, 2]}, scoring=&#x27;accuracy&#x27;)</pre></div></div></div><div class=\"sk-parallel\"><div class=\"sk-parallel-item\"><div class=\"sk-item\"><div class=\"sk-label-container\"><div class=\"sk-label sk-toggleable\"><input class=\"sk-toggleable__control sk-hidden--visually\" id=\"sk-estimator-id-2\" type=\"checkbox\" ><label for=\"sk-estimator-id-2\" class=\"sk-toggleable__label sk-toggleable__label-arrow\">estimator: KNeighborsClassifier</label><div class=\"sk-toggleable__content\"><pre>KNeighborsClassifier()</pre></div></div></div><div class=\"sk-serial\"><div class=\"sk-item\"><div class=\"sk-estimator sk-toggleable\"><input class=\"sk-toggleable__control sk-hidden--visually\" id=\"sk-estimator-id-3\" type=\"checkbox\" ><label for=\"sk-estimator-id-3\" class=\"sk-toggleable__label sk-toggleable__label-arrow\">KNeighborsClassifier</label><div class=\"sk-toggleable__content\"><pre>KNeighborsClassifier()</pre></div></div></div></div></div></div></div></div></div></div>"
            ]
          },
          "metadata": {},
          "execution_count": 12
        }
      ],
      "source": [
        "# Fine-tuning the model using GridSearchCV\n",
        "param_grid = {'n_neighbors': k_values}\n",
        "knn = KNeighborsClassifier()\n",
        "grid = GridSearchCV(knn, param_grid, cv=5, scoring='accuracy')\n",
        "grid.fit(X_train, y_train)\n",
        "\n",
        "# We use GridSearchCV to perform a grid search over different values of k,\n",
        "#finding the optimal k value that minimizes the misclassification error."
      ]
    },
    {
      "cell_type": "markdown",
      "id": "df46fe2a",
      "metadata": {
        "id": "df46fe2a"
      },
      "source": [
        "# GridSearchCV\n",
        " It is a library function provided in Scikit-Learn in Python, and it stands for Grid Search Cross Validation. It's used to find the best set of hyperparameters for a machine learning model which in turn helps to improve the model's performance."
      ]
    },
    {
      "cell_type": "code",
      "execution_count": 13,
      "id": "74253669",
      "metadata": {
        "id": "74253669",
        "outputId": "7e102405-09d1-4bc9-bef0-a58759176a44",
        "colab": {
          "base_uri": "https://localhost:8080/"
        }
      },
      "outputs": [
        {
          "output_type": "stream",
          "name": "stdout",
          "text": [
            "k=1, Accuracy: 35.39%\n",
            "k=2, Accuracy: 31.16%\n"
          ]
        }
      ],
      "source": [
        "#4. (Optional) Try different values of k and observe how the classification accuracy changes\n",
        "\n",
        "\n",
        "\n",
        "for k in range(1, 3):\n",
        "    knn = KNeighborsClassifier(n_neighbors=k)\n",
        "    knn.fit(X_train, y_train)\n",
        "    y_pred = knn.predict(X_test)\n",
        "    print(f'k={k}, Accuracy: {accuracy_score(y_test, y_pred)*100:.2f}%')\n",
        "\n",
        "\n"
      ]
    },
    {
      "cell_type": "code",
      "execution_count": 14,
      "id": "83583af4",
      "metadata": {
        "id": "83583af4",
        "outputId": "9dd95cb7-be72-4d48-a032-321e70cb226f",
        "colab": {
          "base_uri": "https://localhost:8080/"
        }
      },
      "outputs": [
        {
          "output_type": "stream",
          "name": "stdout",
          "text": [
            "Optimal k: 1\n",
            "Accuracy: 35.39%\n"
          ]
        }
      ],
      "source": [
        "# 5.Display the optimal value of k and evaluate the model\n",
        "# Hint: You can use the accuracy_score function from scikit-learn\n",
        "\n",
        "best_k = grid.best_params_['n_neighbors']\n",
        "best_knn = grid.best_estimator_\n",
        "y_pred = best_knn.predict(X_test)\n",
        "print(f'Optimal k: {best_k}')\n",
        "print(f'Accuracy: {accuracy_score(y_test, y_pred)*100:.2f}%')\n",
        "\n",
        "\n",
        "##We display the optimal k value and evaluate the best k-NN model on the test data to check its performance.\n",
        "#Each step in the code is necessary to ensure proper data preparation, model training, evaluation, and fine-tuning,\n",
        "#which are crucial aspects of building and understanding machine learning models\n",
        "\n",
        "# Set a flag to indicate that the code cell has completed execution\n",
        "code_completed = True"
      ]
    },
    {
      "cell_type": "code",
      "execution_count": 15,
      "id": "2b4ec1c9",
      "metadata": {
        "id": "2b4ec1c9",
        "outputId": "e3c3c627-515b-4f84-ca8a-cdf415ed8b08",
        "colab": {
          "base_uri": "https://localhost:8080/",
          "height": 471
        }
      },
      "outputs": [
        {
          "output_type": "display_data",
          "data": {
            "text/plain": [
              "<IPython.core.display.Markdown object>"
            ],
            "text/markdown": "\n    ## Why do you think of this model accuracy? How can it be improved?\n\n    How to improve Model's accuracy? Here are some suggestions on how to improve the model\n\n    In this assignment, there could be various reasons for a low accuracy score. Here are some potential factors and suggestions on how to improve the model performance:\n\n    - **Network Architecture**: The architecture of the neural network can significantly affect the performance. A more complex architecture with additional layers might capture the features of the data better. You could experiment with adding more convolutional layers, pooling layers, or fully connected layers to the network.\n\n    - **Hyperparameters**: Tuning hyperparameters such as the learning rate, batch size, and the number of epochs can also help in improving the model's performance. You can use techniques like GridSearchCV or RandomizedSearchCV to find the optimal hyperparameters.\n\n    - **Data Augmentation**: Augmenting the training data by applying random transformations (e.g., rotation, scaling, cropping, flipping) can help the model learn more robust features and improve its generalization ability.\n\n    - **Normalization and Preprocessing**: Ensuring that the input data is normalized and preprocessed correctly is crucial. Normalizing the pixel values of the images to a range between 0 and 1 can help in speeding up the training and improving the convergence of the model.\n\n    - **Advanced Optimizers**: Experimenting with different optimization algorithms such as Adam, RMSprop, or Adagrad, might lead to better training convergence and improved accuracy.\n\n    - **Regularization**: Implementing regularization techniques such as dropout or L2 regularization can help in reducing overfitting, especially in a complex network with many parameters.\n\n    - **Transfer Learning**: Utilizing a pre-trained model on a large dataset and fine-tuning it on your specific dataset can significantly boost the performance. Models like ResNet, VGG, or MobileNet have already learned useful features from large-scale datasets and can be fine-tuned for your specific task.\n\n    - **Evaluation Metrics**: Ensure you are using appropriate evaluation metrics for your problem. Sometimes accuracy might not be the best metric, especially in imbalanced datasets. Other metrics like precision, recall, or F1-score might provide better insights.\n\n    - **Learning Schedule**: Implementing learning rate schedules or learning rate warm-up can help in stabilizing the training and achieving better performance.\n\n    - **Early Stopping**: Implementing early stopping based on validation loss can prevent overfitting and save training time.\n    "
          },
          "metadata": {}
        }
      ],
      "source": [
        "from IPython.display import display, Markdown\n",
        "\n",
        "# Replace 'True' with your condition.\n",
        "# For example, if you have a variable called 'result' and you want to display the Markdown\n",
        "# only if 'result' is greater than 10, replace 'True' with 'result > 10'.\n",
        "condition = True\n",
        "\n",
        "if 'code_completed' in globals() and code_completed:\n",
        "    display(Markdown(\"\"\"\n",
        "    ## Why do you think of this model accuracy? How can it be improved?\n",
        "\n",
        "    How to improve Model's accuracy? Here are some suggestions on how to improve the model\n",
        "\n",
        "    In this assignment, there could be various reasons for a low accuracy score. Here are some potential factors and suggestions on how to improve the model performance:\n",
        "\n",
        "    - **Network Architecture**: The architecture of the neural network can significantly affect the performance. A more complex architecture with additional layers might capture the features of the data better. You could experiment with adding more convolutional layers, pooling layers, or fully connected layers to the network.\n",
        "\n",
        "    - **Hyperparameters**: Tuning hyperparameters such as the learning rate, batch size, and the number of epochs can also help in improving the model's performance. You can use techniques like GridSearchCV or RandomizedSearchCV to find the optimal hyperparameters.\n",
        "\n",
        "    - **Data Augmentation**: Augmenting the training data by applying random transformations (e.g., rotation, scaling, cropping, flipping) can help the model learn more robust features and improve its generalization ability.\n",
        "\n",
        "    - **Normalization and Preprocessing**: Ensuring that the input data is normalized and preprocessed correctly is crucial. Normalizing the pixel values of the images to a range between 0 and 1 can help in speeding up the training and improving the convergence of the model.\n",
        "\n",
        "    - **Advanced Optimizers**: Experimenting with different optimization algorithms such as Adam, RMSprop, or Adagrad, might lead to better training convergence and improved accuracy.\n",
        "\n",
        "    - **Regularization**: Implementing regularization techniques such as dropout or L2 regularization can help in reducing overfitting, especially in a complex network with many parameters.\n",
        "\n",
        "    - **Transfer Learning**: Utilizing a pre-trained model on a large dataset and fine-tuning it on your specific dataset can significantly boost the performance. Models like ResNet, VGG, or MobileNet have already learned useful features from large-scale datasets and can be fine-tuned for your specific task.\n",
        "\n",
        "    - **Evaluation Metrics**: Ensure you are using appropriate evaluation metrics for your problem. Sometimes accuracy might not be the best metric, especially in imbalanced datasets. Other metrics like precision, recall, or F1-score might provide better insights.\n",
        "\n",
        "    - **Learning Schedule**: Implementing learning rate schedules or learning rate warm-up can help in stabilizing the training and achieving better performance.\n",
        "\n",
        "    - **Early Stopping**: Implementing early stopping based on validation loss can prevent overfitting and save training time.\n",
        "    \"\"\"))\n"
      ]
    },
    {
      "cell_type": "code",
      "execution_count": 16,
      "id": "2f458b95",
      "metadata": {
        "id": "2f458b95"
      },
      "outputs": [],
      "source": [
        "import tensorflow as tf\n",
        "import matplotlib.pyplot as plt\n",
        "from tensorflow.keras.preprocessing.image import ImageDataGenerator\n"
      ]
    },
    {
      "cell_type": "code",
      "execution_count": 17,
      "id": "2dfceab9",
      "metadata": {
        "id": "2dfceab9"
      },
      "outputs": [],
      "source": [
        "# Load data\n",
        "(X_train, y_train), (X_test, y_test) = tf.keras.datasets.cifar10.load_data()\n",
        "\n",
        "# Normalize data\n",
        "X_train, X_test = X_train / 255.0, X_test / 255.0\n"
      ]
    },
    {
      "cell_type": "code",
      "execution_count": 18,
      "id": "96bb94e7",
      "metadata": {
        "id": "96bb94e7"
      },
      "outputs": [],
      "source": [
        "# Data Augmentation\n",
        "datagen = ImageDataGenerator(\n",
        "    rotation_range=15,\n",
        "    horizontal_flip=True,\n",
        "    width_shift_range=0.1,\n",
        "    height_shift_range=0.1\n",
        ")\n",
        "datagen.fit(X_train)"
      ]
    },
    {
      "cell_type": "code",
      "execution_count": 19,
      "id": "06c7d622",
      "metadata": {
        "id": "06c7d622"
      },
      "outputs": [],
      "source": [
        "# Build model\n",
        "model = tf.keras.models.Sequential([\n",
        "    tf.keras.layers.Conv2D(32, (3,3), activation='relu', input_shape=(32,32,3)),\n",
        "    tf.keras.layers.BatchNormalization(),\n",
        "    tf.keras.layers.MaxPooling2D(pool_size=(2, 2)),\n",
        "    tf.keras.layers.Dropout(0.25),\n",
        "    tf.keras.layers.Conv2D(64, (3,3), activation='relu'),\n",
        "    tf.keras.layers.BatchNormalization(),\n",
        "    tf.keras.layers.MaxPooling2D(pool_size=(2, 2)),\n",
        "    tf.keras.layers.Dropout(0.25),\n",
        "    tf.keras.layers.Flatten(),\n",
        "    tf.keras.layers.Dense(512, activation='relu'),\n",
        "    tf.keras.layers.Dropout(0.5),\n",
        "    tf.keras.layers.Dense(10, activation='softmax')\n",
        "])\n"
      ]
    },
    {
      "cell_type": "code",
      "execution_count": 20,
      "id": "e988eafc",
      "metadata": {
        "id": "e988eafc"
      },
      "outputs": [],
      "source": [
        "# Compile model\n",
        "model.compile(optimizer='adam',\n",
        "              loss='sparse_categorical_crossentropy',\n",
        "              metrics=['accuracy'])\n"
      ]
    },
    {
      "cell_type": "code",
      "execution_count": 21,
      "id": "85ce4789",
      "metadata": {
        "id": "85ce4789",
        "outputId": "47125bf0-f6a6-415b-fd6d-15b55bbcb455",
        "colab": {
          "base_uri": "https://localhost:8080/"
        }
      },
      "outputs": [
        {
          "output_type": "stream",
          "name": "stdout",
          "text": [
            "Epoch 1/2\n",
            "782/782 [==============================] - 129s 163ms/step - loss: 1.7799 - accuracy: 0.1000 - val_loss: 1.7442 - val_accuracy: 0.0652\n",
            "Epoch 2/2\n",
            "782/782 [==============================] - 132s 169ms/step - loss: 1.4749 - accuracy: 0.1004 - val_loss: 1.2287 - val_accuracy: 0.1239\n"
          ]
        }
      ],
      "source": [
        "# Train model\n",
        "history = model.fit(datagen.flow(X_train, y_train, batch_size=64),\n",
        "                    epochs=2,\n",
        "                    validation_data=(X_test, y_test),\n",
        "                    callbacks=[tf.keras.callbacks.EarlyStopping(patience=5, restore_best_weights=True)])\n"
      ]
    },
    {
      "cell_type": "code",
      "execution_count": 22,
      "id": "9e9e28f7",
      "metadata": {
        "id": "9e9e28f7",
        "outputId": "c2fef69c-dc8d-4ae1-a27a-32f47148023e",
        "colab": {
          "base_uri": "https://localhost:8080/",
          "height": 467
        }
      },
      "outputs": [
        {
          "output_type": "execute_result",
          "data": {
            "text/plain": [
              "<matplotlib.legend.Legend at 0x7da2d6733df0>"
            ]
          },
          "metadata": {},
          "execution_count": 22
        },
        {
          "output_type": "display_data",
          "data": {
            "text/plain": [
              "<Figure size 640x480 with 1 Axes>"
            ],
            "image/png": "[encoded data removed]"
          },
          "metadata": {}
        }
      ],
      "source": [
        "# Evaluate model\n",
        "plt.plot(history.history['accuracy'], label='accuracy')\n",
        "plt.plot(history.history['val_accuracy'], label = 'val_accuracy')\n",
        "plt.xlabel('Epoch')\n",
        "plt.ylabel('Accuracy')\n",
        "plt.legend(loc='lower right')\n"
      ]
    },
    {
      "cell_type": "markdown",
      "id": "433dc9d0",
      "metadata": {
        "id": "433dc9d0"
      },
      "source": [
        "#  In this updated snippet:\n",
        "\n",
        "Data normalization and augmentation have been added.\n",
        "The model architecture has been expanded with additional layers, batch normalization, and dropout for regularization.\n",
        "Early stopping is implemented to prevent overfitting.\n",
        "The training is done for more epochs, but with early stopping to halt training if the model is no longer improving on the validation data."
      ]
    }
  ],
  "metadata": {
    "colab": {
      "provenance": [],
      "include_colab_link": true
    },
    "kernelspec": {
      "display_name": "Python 3",
      "language": "python",
      "name": "python3"
    },
    "language_info": {
      "codemirror_mode": {
        "name": "ipython",
        "version": 3
      },
      "file_extension": ".py",
      "mimetype": "text/x-python",
      "name": "python",
      "nbconvert_exporter": "python",
      "pygments_lexer": "ipython3",
      "version": "3.11.7"
    }
  },
  "nbformat": 4,
  "nbformat_minor": 5
}